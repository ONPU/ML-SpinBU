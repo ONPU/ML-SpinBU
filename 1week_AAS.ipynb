{
 "cells": [
  {
   "cell_type": "markdown",
   "metadata": {},
   "source": [
    "GENERATE & PRINT X, Y arrays"
   ]
  },
  {
   "cell_type": "code",
   "execution_count": null,
   "metadata": {
    "collapsed": false
   },
   "outputs": [],
   "source": [
    "import numpy as np\n",
    "n = 30\n",
    "X = np.random.randint(-20, 20, size=(n))\n",
    "Y = np.random.randint(-20, 20, size=(n))\n",
    "print (\"X array example:\")\n",
    "print (X)\n",
    "print(\"Y array example:\")\n",
    "print(Y)"
   ]
  },
  {
   "cell_type": "markdown",
   "metadata": {},
   "source": [
    "DRAW Y=f(X)"
   ]
  },
  {
   "cell_type": "code",
   "execution_count": null,
   "metadata": {
    "collapsed": false
   },
   "outputs": [],
   "source": [
    "import matplotlib.pyplot as plt\n",
    "plt.plot(X, Y, 'go',linestyle='dashdot',linewidth=2.0)\n",
    "plt.grid(True, color='blue', linewidth=1.0)\n",
    "plt.show()"
   ]
  },
  {
   "cell_type": "markdown",
   "metadata": {},
   "source": [
    "BUBBLE SORTING X"
   ]
  },
  {
   "cell_type": "code",
   "execution_count": null,
   "metadata": {
    "collapsed": false
   },
   "outputs": [
    {
     "name": "stdout",
     "output_type": "stream",
     "text": [
      "X array sorting:\n",
      "[-20 -19 -19 -15 -10  -8  -7  -6  -6  -3  -1   0   0   0   2   3   3   3\n",
      "   3   5   7   9  10  12  13  13  14  14  14  18]\n"
     ]
    }
   ],
   "source": [
    "n=len(X);\n",
    "m=n-1\n",
    "while m>0:\n",
    " for i in range(m):\n",
    "  if (X[i]>X[i+1]):\n",
    "   x=X[i]\n",
    "   X[i]=X[i+1]\n",
    "   X[i+1]=x;\n",
    " m=m-1;\n",
    "print (\"X array sorting:\")\n",
    "print(X)\n"
   ]
  },
  {
   "cell_type": "code",
   "execution_count": null,
   "metadata": {
    "collapsed": true
   },
   "outputs": [],
   "source": [
    "BUBBLE SORTING Y"
   ]
  },
  {
   "cell_type": "code",
   "execution_count": null,
   "metadata": {
    "collapsed": true
   },
   "outputs": [],
   "source": [
    "n=len(Y);\n",
    "m=n-1\n",
    "while m>0:\n",
    " for i in range(m):\n",
    "  if (Y[i]>Y[i+1]):\n",
    "   y=Y[i]\n",
    "   Y[i]=Y[i+1]\n",
    "   Y[i+1]=y;\n",
    "   m=m-1;\n",
    "print (\"Y array sorting:\")\n",
    "print(Y)"
   ]
  },
  {
   "cell_type": "code",
   "execution_count": null,
   "metadata": {
    "collapsed": true
   },
   "outputs": [],
   "source": [
    "DRAW SORTING Y=f(X)"
   ]
  },
  {
   "cell_type": "code",
   "execution_count": null,
   "metadata": {
    "collapsed": true
   },
   "outputs": [],
   "source": [
    "plt.plot(X, Y, 'ro',linestyle='dashdot',linewidth=2.0)\n",
    "plt.grid(True, color='blue', linewidth=1.0)\n",
    "plt.show()"
   ]
  }
 ],
 "metadata": {
  "kernelspec": {
   "display_name": "Python 3",
   "language": "python",
   "name": "python3"
  },
  "language_info": {
   "codemirror_mode": {
    "name": "ipython",
    "version": 3
   },
   "file_extension": ".py",
   "mimetype": "text/x-python",
   "name": "python",
   "nbconvert_exporter": "python",
   "pygments_lexer": "ipython3",
   "version": "3.4.3"
  }
 },
 "nbformat": 4,
 "nbformat_minor": 0
}
